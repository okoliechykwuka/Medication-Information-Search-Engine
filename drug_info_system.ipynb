{
 "cells": [
  {
   "cell_type": "markdown",
   "metadata": {},
   "source": [
    "### Medication Information Search Engine"
   ]
  },
  {
   "cell_type": "markdown",
   "metadata": {},
   "source": [
    "### This Project is Divided into 4 parts\n",
    "\n",
    "1. Part 1. Data Pre-processing\n",
    "\n",
    "2. Part 2. Information Retrieval Model Development\n",
    "\n",
    "3. Part 3. API Development and Deployment\n",
    "\n",
    "4. Documentation"
   ]
  },
  {
   "cell_type": "markdown",
   "metadata": {},
   "source": [
    "\n",
    "### Table of Contents\n",
    "\n",
    "\n",
    "The table of contents for this project is as follows:-\n",
    "\n",
    "1. [The problem statement](#1)\n",
    "2. [Import libraries](#2)\n",
    "3. [Import dataset](#3)\n",
    "4. [Exploratory data analysis](#4)\n",
    "    -   [View dimensions of dataset](#4.1)\n",
    "    -   [View data info](#4.2)\n",
    "    -   [View number of unique values across data](#4.3)\n",
    "    -   [Summary Statistic](#4.4) \n",
    "    -   [View % of Missing Values ](#4.5)\n",
    "    -   [Handling Missing Values ](#4.6)\n",
    "5. [Modelling Using LLM ](#5)\n",
    "    -   [Explaning the flow of the system ](#5.1)\n",
    "    -   [Import Document LLM Libaries](#5.2)\n",
    "    -   [Load DataFrame with a DataFrameLoader](#5.3)\n",
    "    -   [Initialize the Openai LLM model ](#5.4)\n",
    "    -   [Create a vectore store to use as index](#5.5)\n",
    "    -   [Create a prompt template](#5.6)\n",
    "    -   [Test the Medical information extractor](#5.7)\n",
    "    -   [Implement a LLM Agent to extract info](#5.8)\n",
    "    -   [Test the Medical information extractor with an Agent](#5.9)\n",
    "6. [Create a FastAPI Endpoint for our Model ](#6)\n",
    "   -   [Test model   Endpoint](#6.1)\n",
    "7. [Bonus Part](#7.0)\n",
    "   -   [Using CSV_AGENT](#7.1)\n",
    "\n"
   ]
  },
  {
   "cell_type": "markdown",
   "metadata": {},
   "source": [
    "## 1. Part 1. Data Pre-processing"
   ]
  },
  {
   "cell_type": "markdown",
   "metadata": {},
   "source": [
    "### 1. The problem statement <a class=\"anchor\" id=\"1\"></a>\n",
    "\n",
    "In the fast-paced pharmaceutical industry, a leading company faces a critical challenge: developing an advanced drug information retrieval system. This system aims to provide healthcare professionals with quick access to comprehensive information about drugs, including side effects, drug classes, activity levels, pregnancy categories, and more. As a highly skilled Machine Learning Engineer, your task is to build this system within a strict 1-week timeline."
   ]
  },
  {
   "cell_type": "markdown",
   "metadata": {},
   "source": [
    "### 2. Import libraries <a class=\"anchor\" id=\"2\"></a>"
   ]
  },
  {
   "cell_type": "code",
   "execution_count": 1,
   "metadata": {},
   "outputs": [],
   "source": [
    "# required libraries\n",
    "import pandas as pd\n",
    "from langchain.document_loaders import DataFrameLoader\n",
    "\n",
    "# pd.set_option('display.max_rows', None)  # Display all rows\n",
    "# pd.set_option('display.max_columns', None)  # Display all columns\n",
    "\n",
    "import warnings\n",
    "warnings.filterwarnings(\"ignore\")"
   ]
  },
  {
   "cell_type": "markdown",
   "metadata": {},
   "source": [
    "### 3. Import dataset <a class=\"anchor\" id=\"3\"></a>\n",
    "\n",
    "\n",
    "The next step is to import the dataset."
   ]
  },
  {
   "cell_type": "code",
   "execution_count": 2,
   "metadata": {},
   "outputs": [
    {
     "data": {
      "text/html": [
       "<div>\n",
       "<style scoped>\n",
       "    .dataframe tbody tr th:only-of-type {\n",
       "        vertical-align: middle;\n",
       "    }\n",
       "\n",
       "    .dataframe tbody tr th {\n",
       "        vertical-align: top;\n",
       "    }\n",
       "\n",
       "    .dataframe thead th {\n",
       "        text-align: right;\n",
       "    }\n",
       "</style>\n",
       "<table border=\"1\" class=\"dataframe\">\n",
       "  <thead>\n",
       "    <tr style=\"text-align: right;\">\n",
       "      <th></th>\n",
       "      <th>drug_name</th>\n",
       "      <th>medical_condition</th>\n",
       "      <th>side_effects</th>\n",
       "      <th>generic_name</th>\n",
       "      <th>drug_classes</th>\n",
       "      <th>brand_names</th>\n",
       "      <th>activity</th>\n",
       "      <th>rx_otc</th>\n",
       "      <th>pregnancy_category</th>\n",
       "      <th>csa</th>\n",
       "      <th>alcohol</th>\n",
       "      <th>related_drugs</th>\n",
       "      <th>medical_condition_description</th>\n",
       "      <th>rating</th>\n",
       "      <th>no_of_reviews</th>\n",
       "      <th>drug_link</th>\n",
       "      <th>medical_condition_url</th>\n",
       "    </tr>\n",
       "  </thead>\n",
       "  <tbody>\n",
       "    <tr>\n",
       "      <th>0</th>\n",
       "      <td>doxycycline</td>\n",
       "      <td>Acne</td>\n",
       "      <td>(hives, difficult breathing, swelling in your ...</td>\n",
       "      <td>doxycycline</td>\n",
       "      <td>Miscellaneous antimalarials, Tetracyclines</td>\n",
       "      <td>Acticlate, Adoxa CK, Adoxa Pak, Adoxa TT, Alod...</td>\n",
       "      <td>87%</td>\n",
       "      <td>Rx</td>\n",
       "      <td>D</td>\n",
       "      <td>N</td>\n",
       "      <td>X</td>\n",
       "      <td>amoxicillin: https://www.drugs.com/amoxicillin...</td>\n",
       "      <td>Acne Other names: Acne Vulgaris; Blackheads; B...</td>\n",
       "      <td>6.8</td>\n",
       "      <td>760.0</td>\n",
       "      <td>https://www.drugs.com/doxycycline.html</td>\n",
       "      <td>https://www.drugs.com/condition/acne.html</td>\n",
       "    </tr>\n",
       "    <tr>\n",
       "      <th>1</th>\n",
       "      <td>spironolactone</td>\n",
       "      <td>Acne</td>\n",
       "      <td>hives ; difficulty breathing; swelling of your...</td>\n",
       "      <td>spironolactone</td>\n",
       "      <td>Aldosterone receptor antagonists, Potassium-sp...</td>\n",
       "      <td>Aldactone, CaroSpir</td>\n",
       "      <td>82%</td>\n",
       "      <td>Rx</td>\n",
       "      <td>C</td>\n",
       "      <td>N</td>\n",
       "      <td>X</td>\n",
       "      <td>amlodipine: https://www.drugs.com/amlodipine.h...</td>\n",
       "      <td>Acne Other names: Acne Vulgaris; Blackheads; B...</td>\n",
       "      <td>7.2</td>\n",
       "      <td>449.0</td>\n",
       "      <td>https://www.drugs.com/spironolactone.html</td>\n",
       "      <td>https://www.drugs.com/condition/acne.html</td>\n",
       "    </tr>\n",
       "    <tr>\n",
       "      <th>2</th>\n",
       "      <td>minocycline</td>\n",
       "      <td>Acne</td>\n",
       "      <td>skin rash, fever, swollen glands, flu-like sym...</td>\n",
       "      <td>minocycline</td>\n",
       "      <td>Tetracyclines</td>\n",
       "      <td>Dynacin, Minocin, Minolira, Solodyn, Ximino, V...</td>\n",
       "      <td>48%</td>\n",
       "      <td>Rx</td>\n",
       "      <td>D</td>\n",
       "      <td>N</td>\n",
       "      <td>NaN</td>\n",
       "      <td>amoxicillin: https://www.drugs.com/amoxicillin...</td>\n",
       "      <td>Acne Other names: Acne Vulgaris; Blackheads; B...</td>\n",
       "      <td>5.7</td>\n",
       "      <td>482.0</td>\n",
       "      <td>https://www.drugs.com/minocycline.html</td>\n",
       "      <td>https://www.drugs.com/condition/acne.html</td>\n",
       "    </tr>\n",
       "    <tr>\n",
       "      <th>3</th>\n",
       "      <td>Accutane</td>\n",
       "      <td>Acne</td>\n",
       "      <td>problems with your vision or hearing; muscle o...</td>\n",
       "      <td>isotretinoin (oral)</td>\n",
       "      <td>Miscellaneous antineoplastics, Miscellaneous u...</td>\n",
       "      <td>NaN</td>\n",
       "      <td>41%</td>\n",
       "      <td>Rx</td>\n",
       "      <td>X</td>\n",
       "      <td>N</td>\n",
       "      <td>X</td>\n",
       "      <td>doxycycline: https://www.drugs.com/doxycycline...</td>\n",
       "      <td>Acne Other names: Acne Vulgaris; Blackheads; B...</td>\n",
       "      <td>7.9</td>\n",
       "      <td>623.0</td>\n",
       "      <td>https://www.drugs.com/accutane.html</td>\n",
       "      <td>https://www.drugs.com/condition/acne.html</td>\n",
       "    </tr>\n",
       "    <tr>\n",
       "      <th>4</th>\n",
       "      <td>clindamycin</td>\n",
       "      <td>Acne</td>\n",
       "      <td>hives ; difficult breathing; swelling of your ...</td>\n",
       "      <td>clindamycin topical</td>\n",
       "      <td>Topical acne agents, Vaginal anti-infectives</td>\n",
       "      <td>Cleocin T, Clindacin ETZ, Clindacin P, Clindag...</td>\n",
       "      <td>39%</td>\n",
       "      <td>Rx</td>\n",
       "      <td>B</td>\n",
       "      <td>N</td>\n",
       "      <td>NaN</td>\n",
       "      <td>doxycycline: https://www.drugs.com/doxycycline...</td>\n",
       "      <td>Acne Other names: Acne Vulgaris; Blackheads; B...</td>\n",
       "      <td>7.4</td>\n",
       "      <td>146.0</td>\n",
       "      <td>https://www.drugs.com/mtm/clindamycin-topical....</td>\n",
       "      <td>https://www.drugs.com/condition/acne.html</td>\n",
       "    </tr>\n",
       "  </tbody>\n",
       "</table>\n",
       "</div>"
      ],
      "text/plain": [
       "        drug_name medical_condition  \\\n",
       "0     doxycycline              Acne   \n",
       "1  spironolactone              Acne   \n",
       "2     minocycline              Acne   \n",
       "3        Accutane              Acne   \n",
       "4     clindamycin              Acne   \n",
       "\n",
       "                                        side_effects         generic_name  \\\n",
       "0  (hives, difficult breathing, swelling in your ...          doxycycline   \n",
       "1  hives ; difficulty breathing; swelling of your...       spironolactone   \n",
       "2  skin rash, fever, swollen glands, flu-like sym...          minocycline   \n",
       "3  problems with your vision or hearing; muscle o...  isotretinoin (oral)   \n",
       "4  hives ; difficult breathing; swelling of your ...  clindamycin topical   \n",
       "\n",
       "                                        drug_classes  \\\n",
       "0         Miscellaneous antimalarials, Tetracyclines   \n",
       "1  Aldosterone receptor antagonists, Potassium-sp...   \n",
       "2                                      Tetracyclines   \n",
       "3  Miscellaneous antineoplastics, Miscellaneous u...   \n",
       "4       Topical acne agents, Vaginal anti-infectives   \n",
       "\n",
       "                                         brand_names activity rx_otc  \\\n",
       "0  Acticlate, Adoxa CK, Adoxa Pak, Adoxa TT, Alod...      87%     Rx   \n",
       "1                                Aldactone, CaroSpir      82%     Rx   \n",
       "2  Dynacin, Minocin, Minolira, Solodyn, Ximino, V...      48%     Rx   \n",
       "3                                                NaN      41%     Rx   \n",
       "4  Cleocin T, Clindacin ETZ, Clindacin P, Clindag...      39%     Rx   \n",
       "\n",
       "  pregnancy_category csa alcohol  \\\n",
       "0                  D   N       X   \n",
       "1                  C   N       X   \n",
       "2                  D   N     NaN   \n",
       "3                  X   N       X   \n",
       "4                  B   N     NaN   \n",
       "\n",
       "                                       related_drugs  \\\n",
       "0  amoxicillin: https://www.drugs.com/amoxicillin...   \n",
       "1  amlodipine: https://www.drugs.com/amlodipine.h...   \n",
       "2  amoxicillin: https://www.drugs.com/amoxicillin...   \n",
       "3  doxycycline: https://www.drugs.com/doxycycline...   \n",
       "4  doxycycline: https://www.drugs.com/doxycycline...   \n",
       "\n",
       "                       medical_condition_description  rating  no_of_reviews  \\\n",
       "0  Acne Other names: Acne Vulgaris; Blackheads; B...     6.8          760.0   \n",
       "1  Acne Other names: Acne Vulgaris; Blackheads; B...     7.2          449.0   \n",
       "2  Acne Other names: Acne Vulgaris; Blackheads; B...     5.7          482.0   \n",
       "3  Acne Other names: Acne Vulgaris; Blackheads; B...     7.9          623.0   \n",
       "4  Acne Other names: Acne Vulgaris; Blackheads; B...     7.4          146.0   \n",
       "\n",
       "                                           drug_link  \\\n",
       "0             https://www.drugs.com/doxycycline.html   \n",
       "1          https://www.drugs.com/spironolactone.html   \n",
       "2             https://www.drugs.com/minocycline.html   \n",
       "3                https://www.drugs.com/accutane.html   \n",
       "4  https://www.drugs.com/mtm/clindamycin-topical....   \n",
       "\n",
       "                       medical_condition_url  \n",
       "0  https://www.drugs.com/condition/acne.html  \n",
       "1  https://www.drugs.com/condition/acne.html  \n",
       "2  https://www.drugs.com/condition/acne.html  \n",
       "3  https://www.drugs.com/condition/acne.html  \n",
       "4  https://www.drugs.com/condition/acne.html  "
      ]
     },
     "execution_count": 2,
     "metadata": {},
     "output_type": "execute_result"
    }
   ],
   "source": [
    "df = pd.read_csv(\"Drugs Master List.csv\")\n",
    "df.head()"
   ]
  },
  {
   "cell_type": "markdown",
   "metadata": {},
   "source": [
    "### Exploratory data analysis <a class=\"anchor\" id=\"4\"></a>\n",
    "\n",
    "We can analyze our data using exploratory data analysis techniques to reveal underlying insights that may be concealed.\n"
   ]
  },
  {
   "cell_type": "markdown",
   "metadata": {},
   "source": [
    "#### View dimensions of dataset <a class=\"anchor\" id=\"4.1\"></a>\n"
   ]
  },
  {
   "cell_type": "code",
   "execution_count": 3,
   "metadata": {},
   "outputs": [
    {
     "data": {
      "text/plain": [
       "(999, 17)"
      ]
     },
     "execution_count": 3,
     "metadata": {},
     "output_type": "execute_result"
    }
   ],
   "source": [
    "df.shape"
   ]
  },
  {
   "cell_type": "markdown",
   "metadata": {},
   "source": [
    "#### View data info  <a class=\"anchor\" id=\"4.2\"></a>"
   ]
  },
  {
   "cell_type": "code",
   "execution_count": 4,
   "metadata": {},
   "outputs": [
    {
     "name": "stdout",
     "output_type": "stream",
     "text": [
      "<class 'pandas.core.frame.DataFrame'>\n",
      "RangeIndex: 999 entries, 0 to 998\n",
      "Data columns (total 17 columns):\n",
      " #   Column                         Non-Null Count  Dtype  \n",
      "---  ------                         --------------  -----  \n",
      " 0   drug_name                      999 non-null    object \n",
      " 1   medical_condition              999 non-null    object \n",
      " 2   side_effects                   971 non-null    object \n",
      " 3   generic_name                   987 non-null    object \n",
      " 4   drug_classes                   978 non-null    object \n",
      " 5   brand_names                    613 non-null    object \n",
      " 6   activity                       999 non-null    object \n",
      " 7   rx_otc                         999 non-null    object \n",
      " 8   pregnancy_category             927 non-null    object \n",
      " 9   csa                            999 non-null    object \n",
      " 10  alcohol                        504 non-null    object \n",
      " 11  related_drugs                  491 non-null    object \n",
      " 12  medical_condition_description  999 non-null    object \n",
      " 13  rating                         507 non-null    float64\n",
      " 14  no_of_reviews                  507 non-null    float64\n",
      " 15  drug_link                      999 non-null    object \n",
      " 16  medical_condition_url          999 non-null    object \n",
      "dtypes: float64(2), object(15)\n",
      "memory usage: 132.8+ KB\n"
     ]
    }
   ],
   "source": [
    "df.info()"
   ]
  },
  {
   "cell_type": "markdown",
   "metadata": {},
   "source": [
    "#### View number of unique values across data  <a class=\"anchor\" id=\"4.3\"></a>"
   ]
  },
  {
   "cell_type": "code",
   "execution_count": 5,
   "metadata": {},
   "outputs": [
    {
     "data": {
      "text/plain": [
       "drug_name                        997\n",
       "medical_condition                 13\n",
       "side_effects                     962\n",
       "generic_name                     463\n",
       "drug_classes                     117\n",
       "brand_names                      543\n",
       "activity                          81\n",
       "rx_otc                             3\n",
       "pregnancy_category                 5\n",
       "csa                                6\n",
       "alcohol                            1\n",
       "related_drugs                    190\n",
       "medical_condition_description     13\n",
       "rating                            70\n",
       "no_of_reviews                    168\n",
       "drug_link                        999\n",
       "medical_condition_url             13\n",
       "dtype: int64"
      ]
     },
     "execution_count": 5,
     "metadata": {},
     "output_type": "execute_result"
    }
   ],
   "source": [
    "df.nunique()"
   ]
  },
  {
   "cell_type": "markdown",
   "metadata": {},
   "source": [
    "#### Summary Statistic <a class=\"anchor\" id=\"4.4\"></a>"
   ]
  },
  {
   "cell_type": "markdown",
   "metadata": {},
   "source": [
    "We can only view summary statistics for numeric columns"
   ]
  },
  {
   "cell_type": "code",
   "execution_count": 6,
   "metadata": {},
   "outputs": [
    {
     "data": {
      "text/html": [
       "<div>\n",
       "<style scoped>\n",
       "    .dataframe tbody tr th:only-of-type {\n",
       "        vertical-align: middle;\n",
       "    }\n",
       "\n",
       "    .dataframe tbody tr th {\n",
       "        vertical-align: top;\n",
       "    }\n",
       "\n",
       "    .dataframe thead th {\n",
       "        text-align: right;\n",
       "    }\n",
       "</style>\n",
       "<table border=\"1\" class=\"dataframe\">\n",
       "  <thead>\n",
       "    <tr style=\"text-align: right;\">\n",
       "      <th></th>\n",
       "      <th>rating</th>\n",
       "      <th>no_of_reviews</th>\n",
       "    </tr>\n",
       "  </thead>\n",
       "  <tbody>\n",
       "    <tr>\n",
       "      <th>count</th>\n",
       "      <td>507.000000</td>\n",
       "      <td>507.000000</td>\n",
       "    </tr>\n",
       "    <tr>\n",
       "      <th>mean</th>\n",
       "      <td>6.978107</td>\n",
       "      <td>89.796844</td>\n",
       "    </tr>\n",
       "    <tr>\n",
       "      <th>std</th>\n",
       "      <td>2.187752</td>\n",
       "      <td>185.003942</td>\n",
       "    </tr>\n",
       "    <tr>\n",
       "      <th>min</th>\n",
       "      <td>0.000000</td>\n",
       "      <td>1.000000</td>\n",
       "    </tr>\n",
       "    <tr>\n",
       "      <th>25%</th>\n",
       "      <td>5.800000</td>\n",
       "      <td>2.000000</td>\n",
       "    </tr>\n",
       "    <tr>\n",
       "      <th>50%</th>\n",
       "      <td>7.200000</td>\n",
       "      <td>11.000000</td>\n",
       "    </tr>\n",
       "    <tr>\n",
       "      <th>75%</th>\n",
       "      <td>8.500000</td>\n",
       "      <td>74.500000</td>\n",
       "    </tr>\n",
       "    <tr>\n",
       "      <th>max</th>\n",
       "      <td>10.000000</td>\n",
       "      <td>1471.000000</td>\n",
       "    </tr>\n",
       "  </tbody>\n",
       "</table>\n",
       "</div>"
      ],
      "text/plain": [
       "           rating  no_of_reviews\n",
       "count  507.000000     507.000000\n",
       "mean     6.978107      89.796844\n",
       "std      2.187752     185.003942\n",
       "min      0.000000       1.000000\n",
       "25%      5.800000       2.000000\n",
       "50%      7.200000      11.000000\n",
       "75%      8.500000      74.500000\n",
       "max     10.000000    1471.000000"
      ]
     },
     "execution_count": 6,
     "metadata": {},
     "output_type": "execute_result"
    }
   ],
   "source": [
    "df.describe()"
   ]
  },
  {
   "cell_type": "markdown",
   "metadata": {},
   "source": [
    "#### View % of Missing Values <a class=\"anchor\" id=\"4.5\"></a>"
   ]
  },
  {
   "cell_type": "code",
   "execution_count": 7,
   "metadata": {},
   "outputs": [],
   "source": [
    "def missing_values_table(df, print_info = False):\n",
    "    \"\"\"\n",
    "    Returns a table and percentage of Missing values in a data set.\n",
    "    \"\"\"\n",
    "    # Total missing values\n",
    "    mis_val = df.isnull().sum()\n",
    "\n",
    "    # Percentage of missing values\n",
    "    mis_val_percent = 100 * df.isnull().sum() / len(df)\n",
    "\n",
    "    # Make a table with the results\n",
    "    mis_val_table = pd.concat([mis_val, mis_val_percent], axis=1)\n",
    "\n",
    "    # Rename the columns\n",
    "    mis_val_table_ren_columns = mis_val_table.rename(\n",
    "    columns = {0 : 'Missing Values', 1 : '% of Total Values'})\n",
    "\n",
    "    # Sort the table by percentage of missing descending\n",
    "    mis_val_table_ren_columns = mis_val_table_ren_columns[\n",
    "        mis_val_table_ren_columns.iloc[:,1] != 0].sort_values(\n",
    "    '% of Total Values', ascending=False).round(1)\n",
    "\n",
    "    if print_info:\n",
    "        # Print some summary information\n",
    "        print (\"Your selected dataframe has \" + str(df.shape[1]) + \" columns.\\n\"      \n",
    "            \"There are \" + str(mis_val_table_ren_columns.shape[0]) +\n",
    "              \" columns that have missing values.\")\n",
    "\n",
    "    # Return the dataframe with missing information\n",
    "    return mis_val_table_ren_columns"
   ]
  },
  {
   "cell_type": "code",
   "execution_count": 8,
   "metadata": {},
   "outputs": [
    {
     "data": {
      "text/html": [
       "<div>\n",
       "<style scoped>\n",
       "    .dataframe tbody tr th:only-of-type {\n",
       "        vertical-align: middle;\n",
       "    }\n",
       "\n",
       "    .dataframe tbody tr th {\n",
       "        vertical-align: top;\n",
       "    }\n",
       "\n",
       "    .dataframe thead th {\n",
       "        text-align: right;\n",
       "    }\n",
       "</style>\n",
       "<table border=\"1\" class=\"dataframe\">\n",
       "  <thead>\n",
       "    <tr style=\"text-align: right;\">\n",
       "      <th></th>\n",
       "      <th>Missing Values</th>\n",
       "      <th>% of Total Values</th>\n",
       "    </tr>\n",
       "  </thead>\n",
       "  <tbody>\n",
       "    <tr>\n",
       "      <th>related_drugs</th>\n",
       "      <td>508</td>\n",
       "      <td>50.9</td>\n",
       "    </tr>\n",
       "    <tr>\n",
       "      <th>alcohol</th>\n",
       "      <td>495</td>\n",
       "      <td>49.5</td>\n",
       "    </tr>\n",
       "    <tr>\n",
       "      <th>rating</th>\n",
       "      <td>492</td>\n",
       "      <td>49.2</td>\n",
       "    </tr>\n",
       "    <tr>\n",
       "      <th>no_of_reviews</th>\n",
       "      <td>492</td>\n",
       "      <td>49.2</td>\n",
       "    </tr>\n",
       "    <tr>\n",
       "      <th>brand_names</th>\n",
       "      <td>386</td>\n",
       "      <td>38.6</td>\n",
       "    </tr>\n",
       "    <tr>\n",
       "      <th>pregnancy_category</th>\n",
       "      <td>72</td>\n",
       "      <td>7.2</td>\n",
       "    </tr>\n",
       "    <tr>\n",
       "      <th>side_effects</th>\n",
       "      <td>28</td>\n",
       "      <td>2.8</td>\n",
       "    </tr>\n",
       "    <tr>\n",
       "      <th>drug_classes</th>\n",
       "      <td>21</td>\n",
       "      <td>2.1</td>\n",
       "    </tr>\n",
       "    <tr>\n",
       "      <th>generic_name</th>\n",
       "      <td>12</td>\n",
       "      <td>1.2</td>\n",
       "    </tr>\n",
       "  </tbody>\n",
       "</table>\n",
       "</div>"
      ],
      "text/plain": [
       "                    Missing Values  % of Total Values\n",
       "related_drugs                  508               50.9\n",
       "alcohol                        495               49.5\n",
       "rating                         492               49.2\n",
       "no_of_reviews                  492               49.2\n",
       "brand_names                    386               38.6\n",
       "pregnancy_category              72                7.2\n",
       "side_effects                    28                2.8\n",
       "drug_classes                    21                2.1\n",
       "generic_name                    12                1.2"
      ]
     },
     "execution_count": 8,
     "metadata": {},
     "output_type": "execute_result"
    }
   ],
   "source": [
    "missing_values = missing_values_table(df)\n",
    "missing_values"
   ]
  },
  {
   "cell_type": "markdown",
   "metadata": {},
   "source": [
    "#### Handling Missing Values <a class=\"anchor\" id=\"4.5\"></a>"
   ]
  },
  {
   "cell_type": "markdown",
   "metadata": {},
   "source": [
    "We will explore how to fill in missing data across each columns one step at a time by using our informed ideas about other columns\n",
    "\n"
   ]
  },
  {
   "cell_type": "markdown",
   "metadata": {},
   "source": [
    "* Since we expect the same **drug_names** to have similar **related_drugs**, **brand_names**, **side_effect**, **generic_names**, **ratings**, and **drug_classes**, we can used this informed idea to fill in features with same **drug_name**"
   ]
  },
  {
   "cell_type": "code",
   "execution_count": 9,
   "metadata": {},
   "outputs": [
    {
     "data": {
      "text/plain": [
       "drug_name\n",
       "minocycline       2\n",
       "erythromycin      2\n",
       "doxycycline       1\n",
       "beclomethasone    1\n",
       "Zithromax         1\n",
       "                 ..\n",
       "Edurant           1\n",
       "Lexiva            1\n",
       "nevirapine        1\n",
       "Retrovir          1\n",
       "Histafed          1\n",
       "Name: count, Length: 997, dtype: int64"
      ]
     },
     "execution_count": 9,
     "metadata": {},
     "output_type": "execute_result"
    }
   ],
   "source": [
    "df['drug_name'].value_counts()"
   ]
  },
  {
   "cell_type": "markdown",
   "metadata": {},
   "source": [
    "let's take \"minocycline\" and \"erythromycin\" as an example"
   ]
  },
  {
   "cell_type": "code",
   "execution_count": 10,
   "metadata": {
    "scrolled": true
   },
   "outputs": [
    {
     "data": {
      "text/html": [
       "<div>\n",
       "<style scoped>\n",
       "    .dataframe tbody tr th:only-of-type {\n",
       "        vertical-align: middle;\n",
       "    }\n",
       "\n",
       "    .dataframe tbody tr th {\n",
       "        vertical-align: top;\n",
       "    }\n",
       "\n",
       "    .dataframe thead th {\n",
       "        text-align: right;\n",
       "    }\n",
       "</style>\n",
       "<table border=\"1\" class=\"dataframe\">\n",
       "  <thead>\n",
       "    <tr style=\"text-align: right;\">\n",
       "      <th></th>\n",
       "      <th>drug_name</th>\n",
       "      <th>medical_condition</th>\n",
       "      <th>side_effects</th>\n",
       "      <th>generic_name</th>\n",
       "      <th>drug_classes</th>\n",
       "      <th>brand_names</th>\n",
       "      <th>activity</th>\n",
       "      <th>rx_otc</th>\n",
       "      <th>pregnancy_category</th>\n",
       "      <th>csa</th>\n",
       "      <th>alcohol</th>\n",
       "      <th>related_drugs</th>\n",
       "      <th>medical_condition_description</th>\n",
       "      <th>rating</th>\n",
       "      <th>no_of_reviews</th>\n",
       "      <th>drug_link</th>\n",
       "      <th>medical_condition_url</th>\n",
       "    </tr>\n",
       "  </thead>\n",
       "  <tbody>\n",
       "    <tr>\n",
       "      <th>2</th>\n",
       "      <td>minocycline</td>\n",
       "      <td>Acne</td>\n",
       "      <td>skin rash, fever, swollen glands, flu-like sym...</td>\n",
       "      <td>minocycline</td>\n",
       "      <td>Tetracyclines</td>\n",
       "      <td>Dynacin, Minocin, Minolira, Solodyn, Ximino, V...</td>\n",
       "      <td>48%</td>\n",
       "      <td>Rx</td>\n",
       "      <td>D</td>\n",
       "      <td>N</td>\n",
       "      <td>NaN</td>\n",
       "      <td>amoxicillin: https://www.drugs.com/amoxicillin...</td>\n",
       "      <td>Acne Other names: Acne Vulgaris; Blackheads; B...</td>\n",
       "      <td>5.7</td>\n",
       "      <td>482.0</td>\n",
       "      <td>https://www.drugs.com/minocycline.html</td>\n",
       "      <td>https://www.drugs.com/condition/acne.html</td>\n",
       "    </tr>\n",
       "    <tr>\n",
       "      <th>97</th>\n",
       "      <td>minocycline</td>\n",
       "      <td>Acne</td>\n",
       "      <td>hives , itching, severe rash; swollen glands, ...</td>\n",
       "      <td>minocycline (mucous membrane powder)</td>\n",
       "      <td>Mouth and throat products</td>\n",
       "      <td>Arestin</td>\n",
       "      <td>1%</td>\n",
       "      <td>Rx</td>\n",
       "      <td>D</td>\n",
       "      <td>N</td>\n",
       "      <td>NaN</td>\n",
       "      <td>NaN</td>\n",
       "      <td>Acne Other names: Acne Vulgaris; Blackheads; B...</td>\n",
       "      <td>9.0</td>\n",
       "      <td>1.0</td>\n",
       "      <td>https://www.drugs.com/mtm/minocycline-mucous-m...</td>\n",
       "      <td>https://www.drugs.com/condition/acne.html</td>\n",
       "    </tr>\n",
       "    <tr>\n",
       "      <th>39</th>\n",
       "      <td>erythromycin</td>\n",
       "      <td>Acne</td>\n",
       "      <td>hives ; difficult breathing; swelling of your ...</td>\n",
       "      <td>erythromycin topical</td>\n",
       "      <td>Topical acne agents, Topical antibiotics</td>\n",
       "      <td>Emcin Clear, Erygel, Theramycin Z, A/T/S, Eryc...</td>\n",
       "      <td>5%</td>\n",
       "      <td>Rx</td>\n",
       "      <td>B</td>\n",
       "      <td>N</td>\n",
       "      <td>NaN</td>\n",
       "      <td>NaN</td>\n",
       "      <td>Acne Other names: Acne Vulgaris; Blackheads; B...</td>\n",
       "      <td>10.0</td>\n",
       "      <td>1.0</td>\n",
       "      <td>https://www.drugs.com/mtm/erythromycin-topical...</td>\n",
       "      <td>https://www.drugs.com/condition/acne.html</td>\n",
       "    </tr>\n",
       "    <tr>\n",
       "      <th>668</th>\n",
       "      <td>erythromycin</td>\n",
       "      <td>Bronchitis</td>\n",
       "      <td>severe stomach pain, diarrhea that is watery o...</td>\n",
       "      <td>erythromycin (oral/injection)</td>\n",
       "      <td>Macrolides</td>\n",
       "      <td>E.E.S. Granules, Ery-Tab, Erythrocin Lactobion...</td>\n",
       "      <td>9%</td>\n",
       "      <td>Rx</td>\n",
       "      <td>B</td>\n",
       "      <td>N</td>\n",
       "      <td>X</td>\n",
       "      <td>amoxicillin: https://www.drugs.com/amoxicillin...</td>\n",
       "      <td>Bronchitis Bronchitis is a type of infection t...</td>\n",
       "      <td>7.5</td>\n",
       "      <td>4.0</td>\n",
       "      <td>https://www.drugs.com/erythromycin.html</td>\n",
       "      <td>https://www.drugs.com/condition/bronchitis.html</td>\n",
       "    </tr>\n",
       "  </tbody>\n",
       "</table>\n",
       "</div>"
      ],
      "text/plain": [
       "        drug_name medical_condition  \\\n",
       "2     minocycline              Acne   \n",
       "97    minocycline              Acne   \n",
       "39   erythromycin              Acne   \n",
       "668  erythromycin        Bronchitis   \n",
       "\n",
       "                                          side_effects  \\\n",
       "2    skin rash, fever, swollen glands, flu-like sym...   \n",
       "97   hives , itching, severe rash; swollen glands, ...   \n",
       "39   hives ; difficult breathing; swelling of your ...   \n",
       "668  severe stomach pain, diarrhea that is watery o...   \n",
       "\n",
       "                             generic_name  \\\n",
       "2                             minocycline   \n",
       "97   minocycline (mucous membrane powder)   \n",
       "39                   erythromycin topical   \n",
       "668         erythromycin (oral/injection)   \n",
       "\n",
       "                                 drug_classes  \\\n",
       "2                               Tetracyclines   \n",
       "97                  Mouth and throat products   \n",
       "39   Topical acne agents, Topical antibiotics   \n",
       "668                                Macrolides   \n",
       "\n",
       "                                           brand_names activity rx_otc  \\\n",
       "2    Dynacin, Minocin, Minolira, Solodyn, Ximino, V...      48%     Rx   \n",
       "97                                             Arestin       1%     Rx   \n",
       "39   Emcin Clear, Erygel, Theramycin Z, A/T/S, Eryc...       5%     Rx   \n",
       "668  E.E.S. Granules, Ery-Tab, Erythrocin Lactobion...       9%     Rx   \n",
       "\n",
       "    pregnancy_category csa alcohol  \\\n",
       "2                    D   N     NaN   \n",
       "97                   D   N     NaN   \n",
       "39                   B   N     NaN   \n",
       "668                  B   N       X   \n",
       "\n",
       "                                         related_drugs  \\\n",
       "2    amoxicillin: https://www.drugs.com/amoxicillin...   \n",
       "97                                                 NaN   \n",
       "39                                                 NaN   \n",
       "668  amoxicillin: https://www.drugs.com/amoxicillin...   \n",
       "\n",
       "                         medical_condition_description  rating  no_of_reviews  \\\n",
       "2    Acne Other names: Acne Vulgaris; Blackheads; B...     5.7          482.0   \n",
       "97   Acne Other names: Acne Vulgaris; Blackheads; B...     9.0            1.0   \n",
       "39   Acne Other names: Acne Vulgaris; Blackheads; B...    10.0            1.0   \n",
       "668  Bronchitis Bronchitis is a type of infection t...     7.5            4.0   \n",
       "\n",
       "                                             drug_link  \\\n",
       "2               https://www.drugs.com/minocycline.html   \n",
       "97   https://www.drugs.com/mtm/minocycline-mucous-m...   \n",
       "39   https://www.drugs.com/mtm/erythromycin-topical...   \n",
       "668            https://www.drugs.com/erythromycin.html   \n",
       "\n",
       "                               medical_condition_url  \n",
       "2          https://www.drugs.com/condition/acne.html  \n",
       "97         https://www.drugs.com/condition/acne.html  \n",
       "39         https://www.drugs.com/condition/acne.html  \n",
       "668  https://www.drugs.com/condition/bronchitis.html  "
      ]
     },
     "execution_count": 10,
     "metadata": {},
     "output_type": "execute_result"
    }
   ],
   "source": [
    "filtered_df = df[df['drug_name'].isin(['minocycline', 'erythromycin'])]\n",
    "sorted_df = filtered_df.sort_values(by='drug_name', ascending=False)\n",
    "sorted_df\n"
   ]
  },
  {
   "cell_type": "markdown",
   "metadata": {},
   "source": [
    "We can see that **minocycline** and **erythromycin** have similar column values, we can use this to fill in other column whose values are missing"
   ]
  },
  {
   "cell_type": "code",
   "execution_count": 11,
   "metadata": {},
   "outputs": [
    {
     "name": "stdout",
     "output_type": "stream",
     "text": [
      "<class 'pandas.core.frame.DataFrame'>\n",
      "RangeIndex: 999 entries, 0 to 998\n",
      "Data columns (total 17 columns):\n",
      " #   Column                         Non-Null Count  Dtype  \n",
      "---  ------                         --------------  -----  \n",
      " 0   drug_name                      999 non-null    object \n",
      " 1   medical_condition              999 non-null    object \n",
      " 2   side_effects                   971 non-null    object \n",
      " 3   generic_name                   987 non-null    object \n",
      " 4   drug_classes                   978 non-null    object \n",
      " 5   brand_names                    613 non-null    object \n",
      " 6   activity                       999 non-null    object \n",
      " 7   rx_otc                         999 non-null    object \n",
      " 8   pregnancy_category             927 non-null    object \n",
      " 9   csa                            999 non-null    object \n",
      " 10  alcohol                        504 non-null    object \n",
      " 11  related_drugs                  491 non-null    object \n",
      " 12  medical_condition_description  999 non-null    object \n",
      " 13  rating                         507 non-null    float64\n",
      " 14  no_of_reviews                  507 non-null    float64\n",
      " 15  drug_link                      999 non-null    object \n",
      " 16  medical_condition_url          999 non-null    object \n",
      "dtypes: float64(2), object(15)\n",
      "memory usage: 132.8+ KB\n"
     ]
    }
   ],
   "source": [
    "df.info()"
   ]
  },
  {
   "cell_type": "code",
   "execution_count": 12,
   "metadata": {},
   "outputs": [],
   "source": [
    "column_names = ['side_effects', 'generic_name', 'drug_classes', 'brand_names', 'pregnancy_category','related_drugs',\n",
    "               ]"
   ]
  },
  {
   "cell_type": "code",
   "execution_count": 13,
   "metadata": {},
   "outputs": [],
   "source": [
    "df[column_names] = df.groupby('drug_name', group_keys=False)[column_names].apply(lambda x: x.ffill().bfill())"
   ]
  },
  {
   "cell_type": "code",
   "execution_count": 14,
   "metadata": {},
   "outputs": [
    {
     "data": {
      "text/html": [
       "<div>\n",
       "<style scoped>\n",
       "    .dataframe tbody tr th:only-of-type {\n",
       "        vertical-align: middle;\n",
       "    }\n",
       "\n",
       "    .dataframe tbody tr th {\n",
       "        vertical-align: top;\n",
       "    }\n",
       "\n",
       "    .dataframe thead th {\n",
       "        text-align: right;\n",
       "    }\n",
       "</style>\n",
       "<table border=\"1\" class=\"dataframe\">\n",
       "  <thead>\n",
       "    <tr style=\"text-align: right;\">\n",
       "      <th></th>\n",
       "      <th>Missing Values</th>\n",
       "      <th>% of Total Values</th>\n",
       "    </tr>\n",
       "  </thead>\n",
       "  <tbody>\n",
       "    <tr>\n",
       "      <th>related_drugs</th>\n",
       "      <td>506</td>\n",
       "      <td>50.7</td>\n",
       "    </tr>\n",
       "    <tr>\n",
       "      <th>alcohol</th>\n",
       "      <td>495</td>\n",
       "      <td>49.5</td>\n",
       "    </tr>\n",
       "    <tr>\n",
       "      <th>rating</th>\n",
       "      <td>492</td>\n",
       "      <td>49.2</td>\n",
       "    </tr>\n",
       "    <tr>\n",
       "      <th>no_of_reviews</th>\n",
       "      <td>492</td>\n",
       "      <td>49.2</td>\n",
       "    </tr>\n",
       "    <tr>\n",
       "      <th>brand_names</th>\n",
       "      <td>386</td>\n",
       "      <td>38.6</td>\n",
       "    </tr>\n",
       "    <tr>\n",
       "      <th>pregnancy_category</th>\n",
       "      <td>72</td>\n",
       "      <td>7.2</td>\n",
       "    </tr>\n",
       "    <tr>\n",
       "      <th>side_effects</th>\n",
       "      <td>28</td>\n",
       "      <td>2.8</td>\n",
       "    </tr>\n",
       "    <tr>\n",
       "      <th>drug_classes</th>\n",
       "      <td>21</td>\n",
       "      <td>2.1</td>\n",
       "    </tr>\n",
       "    <tr>\n",
       "      <th>generic_name</th>\n",
       "      <td>12</td>\n",
       "      <td>1.2</td>\n",
       "    </tr>\n",
       "  </tbody>\n",
       "</table>\n",
       "</div>"
      ],
      "text/plain": [
       "                    Missing Values  % of Total Values\n",
       "related_drugs                  506               50.7\n",
       "alcohol                        495               49.5\n",
       "rating                         492               49.2\n",
       "no_of_reviews                  492               49.2\n",
       "brand_names                    386               38.6\n",
       "pregnancy_category              72                7.2\n",
       "side_effects                    28                2.8\n",
       "drug_classes                    21                2.1\n",
       "generic_name                    12                1.2"
      ]
     },
     "execution_count": 14,
     "metadata": {},
     "output_type": "execute_result"
    }
   ],
   "source": [
    "###Check missing value percentage again\n",
    "missing_values = missing_values_table(df)\n",
    "missing_values"
   ]
  },
  {
   "cell_type": "markdown",
   "metadata": {},
   "source": [
    "we can clearly see that \"drug_name\" has droped from 50.9 to 50.7"
   ]
  },
  {
   "cell_type": "markdown",
   "metadata": {},
   "source": [
    "* Drop columns with a unque counts of  1 and other target columns"
   ]
  },
  {
   "cell_type": "code",
   "execution_count": 15,
   "metadata": {},
   "outputs": [],
   "source": [
    "# count the number of unique values in each column\n",
    "unique_counts = df.nunique()\n",
    "\n",
    "# get the column names with only one unique value\n",
    "to_drop = unique_counts[unique_counts == 1].index\n",
    "\n",
    "# # drop the columns\n",
    "final_df = df.drop(to_drop, axis=1)"
   ]
  },
  {
   "cell_type": "code",
   "execution_count": 16,
   "metadata": {},
   "outputs": [
    {
     "data": {
      "text/plain": [
       "Index(['drug_name', 'medical_condition', 'side_effects', 'generic_name',\n",
       "       'drug_classes', 'brand_names', 'activity', 'rx_otc',\n",
       "       'pregnancy_category', 'csa', 'related_drugs',\n",
       "       'medical_condition_description', 'rating', 'no_of_reviews', 'drug_link',\n",
       "       'medical_condition_url'],\n",
       "      dtype='object')"
      ]
     },
     "execution_count": 16,
     "metadata": {},
     "output_type": "execute_result"
    }
   ],
   "source": [
    "final_df.columns"
   ]
  },
  {
   "cell_type": "markdown",
   "metadata": {},
   "source": [
    "Alchohol Column has been droped due to fact that the values across the column are the same."
   ]
  },
  {
   "cell_type": "markdown",
   "metadata": {},
   "source": [
    "## Part 2. Information Retrieval Model Development"
   ]
  },
  {
   "cell_type": "markdown",
   "metadata": {},
   "source": [
    "### Modelling Using Large Language Model <a class=\"anchor\" id=\"5\"></a>"
   ]
  },
  {
   "cell_type": "markdown",
   "metadata": {},
   "source": [
    "We Don't need to apply Text prepocessing due to the fact that the embedding libary \"FAISS\" handles that before storing the medical embedding in a vector database.\n",
    "\n",
    "For this reasons, we will skip this processes, Tokenization, Stop word removal, Stemming, Word embeddings, and creating a Transformer based network for information retrieval."
   ]
  },
  {
   "cell_type": "markdown",
   "metadata": {},
   "source": [
    "#### Explaning the flow of the system <a class=\"anchor\" id=\"5.1\"></a>"
   ]
  },
  {
   "cell_type": "markdown",
   "metadata": {},
   "source": [
    "![OpenAI Logo](https://raw.githubusercontent.com/okoliechykwuka/portfolio/master/pipeline.png)\n"
   ]
  },
  {
   "cell_type": "markdown",
   "metadata": {},
   "source": [
    "Below are the steps required to extract information from the medical Records based on the input qprompt.\n",
    "\n",
    "1. We first split our contents into chunks of data.\n",
    "\n",
    "2. Extract embedding from this chunks(Vector Representation of our text)\n",
    "\n",
    "3. Store the extracted embedding in a Vector database store.\n",
    "\n",
    "4. The embedding contains semantic meaning of our text.\n",
    "\n",
    "5. When a user ask questions, we extract embedding of this questions, and perform a semantic search on the vector database.\n",
    "\n",
    "6. When we find the section of the text in the Vectore store relating to our query, we pass to the LLM Generative model.\n",
    "\n",
    "7. The LLM generates a response to the User."
   ]
  },
  {
   "cell_type": "markdown",
   "metadata": {},
   "source": [
    "\n",
    "#### Import Document LLM Libaries <a class=\"anchor\" id=\"5.2\"></a>"
   ]
  },
  {
   "cell_type": "code",
   "execution_count": 17,
   "metadata": {},
   "outputs": [],
   "source": [
    "from langchain.embeddings import OpenAIEmbeddings\n",
    "from langchain.vectorstores import Chroma\n",
    "from langchain.text_splitter import CharacterTextSplitter\n",
    "from langchain.llms import OpenAI\n",
    "from langchain.chains import RetrievalQA\n",
    "# Import things that are needed generically\n",
    "from langchain.prompts import PromptTemplate\n",
    "from langchain.agents import initialize_agent, Tool\n",
    "\n",
    "import os\n",
    "###Load API Keys\n",
    "from dotenv import load_dotenv\n",
    "load_dotenv()\n",
    "\n",
    "os.environ[\"LANGCHAIN_TRACING\"] = \"true\""
   ]
  },
  {
   "cell_type": "markdown",
   "metadata": {},
   "source": [
    "#### Load DataFrame with a DataFrameLoader <a class=\"anchor\" id=\"5.3\"></a>"
   ]
  },
  {
   "cell_type": "code",
   "execution_count": 18,
   "metadata": {},
   "outputs": [],
   "source": [
    "loader = DataFrameLoader(final_df, page_content_column=\"drug_name\")"
   ]
  },
  {
   "cell_type": "markdown",
   "metadata": {},
   "source": [
    "#### Initialize the Openai LLM model <a class=\"anchor\" id=\"5.4\"></a>"
   ]
  },
  {
   "cell_type": "code",
   "execution_count": 19,
   "metadata": {},
   "outputs": [],
   "source": [
    "# from langchain.chat_models import ChatOpenAI\n",
    "\n",
    "llm = OpenAI(\n",
    "    model_name=\"gpt-3.5-turbo\",\n",
    "    temperature=0.5,\n",
    "    max_tokens=512,\n",
    ")"
   ]
  },
  {
   "cell_type": "markdown",
   "metadata": {},
   "source": [
    "#### Create a vectore store to use as index <a class=\"anchor\" id=\"5.5\"></a>"
   ]
  },
  {
   "cell_type": "code",
   "execution_count": 30,
   "metadata": {},
   "outputs": [],
   "source": [
    "#If you encounter any error on this part, generate a new Openai Api Key\n",
    "#https://openai.com/blog/openai-api"
   ]
  },
  {
   "cell_type": "code",
   "execution_count": 20,
   "metadata": {},
   "outputs": [],
   "source": [
    "documents = loader.load()\n",
    "# split the documents into chunks\n",
    "text_splitter = CharacterTextSplitter(chunk_size=2000, chunk_overlap=50,separator=\"\" )\n",
    "texts = text_splitter.split_documents(documents)\n",
    "# select which embeddings we want to use\n",
    "embeddings = OpenAIEmbeddings()\n",
    "\n",
    "# create the vectorestore to use as the index\n",
    "medical_store = Chroma.from_documents(texts, embeddings, collection_name=\"support\")\n",
    "retriever = medical_store.as_retriever(search_type=\"similarity\", search_kwargs={\"k\": 2} )"
   ]
  },
  {
   "cell_type": "code",
   "execution_count": null,
   "metadata": {},
   "outputs": [],
   "source": []
  },
  {
   "cell_type": "markdown",
   "metadata": {},
   "source": [
    "#### Create a prompt template <a class=\"anchor\" id=\"5.6\"></a>"
   ]
  },
  {
   "cell_type": "markdown",
   "metadata": {},
   "source": [
    "Prompt template helps us to instruct the LLM model on how to process our queries and the response to return\n",
    "\n",
    "In Our case, we feed in a question(query and focus) and the Language Model returns a Json Response.\n",
    "\n",
    "\n",
    "**Question**\n",
    "\n",
    "             {\"query\": \n",
    "               [\"I want information on doxycycline\"],\n",
    "                \"focus\": \n",
    "                    [\"side_effects\", \"drug_classes\"]\n",
    "                }\n",
    "    \n",
    "**Response**\n",
    "\n",
    "                {\n",
    "                  \"results\": {\n",
    "                    \"drug_name\": \"Doxycycline\",\n",
    "                    \"generic_name\": \"Doxycycline\",\n",
    "                    \"side_effects\": [\"Nausea\",\"Vomiting\",\"Diarrhea\",\"Rash\",\"Photosensitivity\"],\n",
    "                    \"drug_classes\": [\n",
    "                      \"Tetracycline Antibiotic\"\n",
    "                    ],\n",
    "                    \"brand_names\": [\"Adoxa\",Doryx\",\"Monodox\",\"Oracea\",\"Vibramycin\"],\n",
    "                    \"activity\": \"Unknown\",\n",
    "                    \"related_drugs\": [\"Minocycline\",\"Tetracycline\",zithromycin\"],\n",
    "                    \"rating\": 7.1,\n",
    "                    \"no_of_reviews\": 998,\n",
    "                    \"drug_link\": \"https://www.drugs.com/doxycycline.html\",\n",
    "                    \"CSA\": \"N\"\n",
    "                  }\n",
    "                }\n",
    "                          \n",
    "                    `"
   ]
  },
  {
   "cell_type": "code",
   "execution_count": 21,
   "metadata": {},
   "outputs": [],
   "source": [
    "support_template =  \\\n",
    "   \"\"\"As a Medical Information Retrieval bot, your goal is to provide accurate and helpful information about medical records. \n",
    "       Always search for answers using only the provided tools; do not make up answers yourself, If the requested information is unavailable, use \"unknown\" as the value.\n",
    "\n",
    "        Below is the response format, Note: This is just a format for your response and not the actual response.\n",
    "        Only use keys that are relevant to the question asked. The maximum number of keys should be 8, and the minimum number of keys should be 5.\n",
    "\n",
    "\n",
    "                {{\n",
    "    \n",
    "                  \"results\": {{\n",
    "                    \"drug_name\": \"Paracetamol\",\n",
    "                    \"generic_name\": \"Acetaminophen\",\n",
    "                    \"side_effects\": [\"Headache\", \"Nausea\", \"Stomach pain\"],\n",
    "                    \"drug_classes\": [\"Analgesic\", \"Antipyretic\"],\n",
    "                    \"brand_names\": [\"Acticlate\", \"Adoxa CK\", \"Adoxa Pak\", \"Adoxa TT\", \"Alodox\"],\n",
    "                    \"activity\": \"87%\",\n",
    "                    \"related_drugs\": [\"Amoxicillin\", \"Prednisone\", \"Albuterol\"],\n",
    "                    \"rating\": 6.8,\n",
    "                    \"no_of_reviews\": 760,\n",
    "                    \"drug_link\": \"https://www.drugs.com/doxycycline.html\",\n",
    "                    \"CSA\": \"N\"\n",
    "                          }}\n",
    "                  }}\n",
    "\n",
    "\n",
    "            {context}\n",
    "\n",
    "            Question: {question}\n",
    "\n",
    "                    \"\"\"\n",
    "SUPPORT_PROMPT = PromptTemplate.from_template(\n",
    "    template=support_template, #input_variables=[\"question\"],#validate_template=False\n",
    ")\n",
    "support_qa = RetrievalQA.from_chain_type(\n",
    "    llm=llm,\n",
    "    chain_type=\"stuff\",\n",
    "    retriever=retriever,\n",
    "    chain_type_kwargs={\"prompt\": SUPPORT_PROMPT},\n",
    ")\n"
   ]
  },
  {
   "cell_type": "code",
   "execution_count": 22,
   "metadata": {},
   "outputs": [],
   "source": [
    "yes = '{\"query\": [\"I want information on doxycycline\"],\"focus\":[\"side_effects\", \"drug_classes\"]}'"
   ]
  },
  {
   "cell_type": "markdown",
   "metadata": {},
   "source": [
    "#### Test the Medical information extractor <a class=\"anchor\" id=\"5.7\"></a>"
   ]
  },
  {
   "cell_type": "code",
   "execution_count": 23,
   "metadata": {},
   "outputs": [
    {
     "name": "stderr",
     "output_type": "stream",
     "text": [
      "WARNING:root:Failed to load default session, using empty session: HTTPConnectionPool(host='localhost', port=1984): Max retries exceeded with url: /sessions?name=default (Caused by NewConnectionError('<urllib3.connection.HTTPConnection object at 0x00000171C47EA850>: Failed to establish a new connection: [WinError 10061] No connection could be made because the target machine actively refused it'))\n",
      "WARNING:root:Failed to persist run: HTTPConnectionPool(host='localhost', port=1984): Max retries exceeded with url: /chain-runs (Caused by NewConnectionError('<urllib3.connection.HTTPConnection object at 0x00000171C47EABB0>: Failed to establish a new connection: [WinError 10061] No connection could be made because the target machine actively refused it'))\n"
     ]
    },
    {
     "name": "stdout",
     "output_type": "stream",
     "text": [
      "{\n",
      "    \n",
      "    \"results\": {\n",
      "        \"drug_name\": \"Doxycycline\",\n",
      "        \"generic_name\": \"Doxycycline\",\n",
      "        \"side_effects\": [\"Nausea\", \"Vomiting\", \"Diarrhea\", \"Loss of appetite\", \"Photosensitivity\", \"Headache\"],\n",
      "        \"drug_classes\": [\"Tetracycline Antibiotic\"],\n",
      "        \"brand_names\": [\"Acticlate\", \"Adoxa\", \"Doryx\", \"Monodox\", \"Oracea\", \"Vibramycin\"],\n",
      "        \"activity\": \"Unknown\",\n",
      "        \"related_drugs\": [\"Minocycline\", \"Tetracycline\", \"Azithromycin\"],\n",
      "        \"rating\": 6.4,\n",
      "        \"no_of_reviews\": 537,\n",
      "        \"drug_link\": \"https://www.drugs.com/doxycycline.html\",\n",
      "        \"CSA\": \"N\"\n",
      "    }\n",
      "}\n"
     ]
    }
   ],
   "source": [
    "print(support_qa.run(yes))"
   ]
  },
  {
   "cell_type": "markdown",
   "metadata": {},
   "source": [
    "#### Implement a LLM Agent to extract info <a class=\"anchor\" id=\"5.8\"></a>"
   ]
  },
  {
   "cell_type": "markdown",
   "metadata": {},
   "source": [
    "We now have an instructions and stores for  support responses. We can now assign an agent to perform thsi response for us."
   ]
  },
  {
   "cell_type": "code",
   "execution_count": 26,
   "metadata": {},
   "outputs": [],
   "source": [
    "# the zero-shot-react-description agent will use the \"description\" string to select tools\n",
    "tools = [\n",
    "    Tool(\n",
    "        name = \"support\",\n",
    "        func=support_qa.run,\n",
    "        description=\"\"\"\n",
    "        useful for when a user is interested in various medical information.\n",
    "        A user is not asking for any debugging, but only interested in medical infromations rendered in a Json format.\n",
    "        Input should be a fully formed question.\n",
    "        \"\"\"\n",
    "    ),\n",
    "]"
   ]
  },
  {
   "cell_type": "code",
   "execution_count": 27,
   "metadata": {},
   "outputs": [],
   "source": [
    "agent = initialize_agent(tools, llm, agent=\"zero-shot-react-description\", verbose=True)"
   ]
  },
  {
   "cell_type": "markdown",
   "metadata": {},
   "source": [
    "#### Test the Medical information extractor with an Agent <a class=\"anchor\" id=\"5.9\"></a>"
   ]
  },
  {
   "cell_type": "code",
   "execution_count": 28,
   "metadata": {},
   "outputs": [
    {
     "name": "stderr",
     "output_type": "stream",
     "text": [
      "WARNING:root:Failed to load default session, using empty session: HTTPConnectionPool(host='localhost', port=1984): Max retries exceeded with url: /sessions?name=default (Caused by NewConnectionError('<urllib3.connection.HTTPConnection object at 0x00000171C3E1B0D0>: Failed to establish a new connection: [WinError 10061] No connection could be made because the target machine actively refused it'))\n"
     ]
    },
    {
     "name": "stdout",
     "output_type": "stream",
     "text": [
      "\n",
      "\n",
      "\u001b[1m> Entering new AgentExecutor chain...\u001b[0m\n",
      "\u001b[32;1m\u001b[1;3mThe user is requesting information on the drug doxycycline, specifically related to side effects and drug classes.\n",
      "Action: support\n",
      "Action Input: \"What are the side effects and drug classes of doxycycline?\"\u001b[0m\n",
      "Observation: \u001b[36;1m\u001b[1;3m{\n",
      "    \n",
      "  \"results\": {\n",
      "    \"drug_name\": \"Doxycycline\",\n",
      "    \"side_effects\": [\"Nausea\", \"Vomiting\", \"Diarrhea\", \"Rash\", \"Photosensitivity\"],\n",
      "    \"drug_classes\": [\"Tetracycline Antibiotic\"],\n",
      "  }\n",
      "} \n",
      "\n",
      "Note: The provided information is not exhaustive and may not include all possible side effects or drug classes. Please consult a healthcare professional for more detailed information.\u001b[0m\n",
      "Thought:\u001b[32;1m\u001b[1;3mThe user now has the requested information on doxycycline's side effects and drug classes.\n",
      "Final Answer: The side effects of doxycycline are nausea, vomiting, diarrhea, rash, and photosensitivity, and its drug class is tetracycline antibiotic.\u001b[0m\n",
      "\n",
      "\u001b[1m> Finished chain.\u001b[0m\n"
     ]
    },
    {
     "name": "stderr",
     "output_type": "stream",
     "text": [
      "WARNING:root:Failed to persist run: HTTPConnectionPool(host='localhost', port=1984): Max retries exceeded with url: /chain-runs (Caused by NewConnectionError('<urllib3.connection.HTTPConnection object at 0x00000171C3E1BC10>: Failed to establish a new connection: [WinError 10061] No connection could be made because the target machine actively refused it'))\n"
     ]
    }
   ],
   "source": [
    "result = agent.run(yes)\n"
   ]
  },
  {
   "cell_type": "code",
   "execution_count": 29,
   "metadata": {},
   "outputs": [
    {
     "data": {
      "text/plain": [
       "'The side effects of doxycycline are nausea, vomiting, diarrhea, rash, and photosensitivity, and its drug class is tetracycline antibiotic.'"
      ]
     },
     "execution_count": 29,
     "metadata": {},
     "output_type": "execute_result"
    }
   ],
   "source": [
    "result"
   ]
  },
  {
   "cell_type": "markdown",
   "metadata": {},
   "source": [
    "## 3. Part 3. API Development and Deployment"
   ]
  },
  {
   "cell_type": "markdown",
   "metadata": {},
   "source": [
    "### Create a FastAPI Endpoint for our Model <a class=\"anchor\" id=\"6\"></a>"
   ]
  },
  {
   "cell_type": "code",
   "execution_count": 29,
   "metadata": {},
   "outputs": [],
   "source": [
    "from fastapi import FastAPI\n",
    "from pydantic import BaseModel\n",
    "from typing import List, Optional\n",
    "from fastapi.responses import JSONResponse\n",
    "import json\n",
    "app = FastAPI()\n",
    "\n",
    "class Question(BaseModel):\n",
    "    query: Optional[List[str]] = None\n",
    "    focus: Optional[List[str]] = None\n",
    "        \n",
    "@app.get(\"/\")\n",
    "def root():\n",
    "    return {\"message\": \"EndPoint is working perfectly!\"}\n",
    "\n",
    "@app.post(\"/question/\")\n",
    "def create_question(question: Question):\n",
    "    # Process the received Question\n",
    "    # You can access the item attributes like question.query, question.focus\n",
    "    #Pass the question to the agent\n",
    "    result = support_qa.run(question.json())\n",
    "    print(json.loads(result))\n",
    "    \n",
    "    return json.loads(result)\n"
   ]
  },
  {
   "cell_type": "markdown",
   "metadata": {},
   "source": [
    "#### Test model   Endpoint<a class=\"anchor\" id=\"6.1\"></a>\n",
    "\n",
    "Open http://127.0.0.1:8000/docs#/default to extract information from document.\n",
    "\n",
    "**Request Body**\n",
    "\n",
    "             {\"query\": \n",
    "               [\"I want information on doxycycline\"],\n",
    "                \"focus\": \n",
    "                    [\"side_effects\", \"drug_classes\"]\n",
    "                }\n",
    "    \n",
    "**Response Body**\n",
    "\n",
    "                {\n",
    "                  \"results\": {\n",
    "                    \"drug_name\": \"Doxycycline\",\n",
    "                    \"generic_name\": \"Doxycycline\",\n",
    "                    \"side_effects\": [\"Nausea\",\"Vomiting\",\"Diarrhea\",\"Rash\",\"Photosensitivity\"],\n",
    "                    \"drug_classes\": [\n",
    "                      \"Tetracycline Antibiotic\"\n",
    "                    ],\n",
    "                    \"brand_names\": [\"Adoxa\",Doryx\",\"Monodox\",\"Oracea\",\"Vibramycin\"],\n",
    "                    \"activity\": \"Unknown\",\n",
    "                    \"related_drugs\": [\"Minocycline\",\"Tetracycline\",zithromycin\"],\n",
    "                    \"rating\": 7.1,\n",
    "                    \"no_of_reviews\": 998,\n",
    "                    \"drug_link\": \"https://www.drugs.com/doxycycline.html\",\n",
    "                    \"CSA\": \"N\"\n",
    "                  }\n",
    "                }\n"
   ]
  },
  {
   "cell_type": "code",
   "execution_count": 31,
   "metadata": {},
   "outputs": [
    {
     "name": "stderr",
     "output_type": "stream",
     "text": [
      "INFO:     Started server process [21568]\n",
      "INFO:     Waiting for application startup.\n",
      "INFO:     Application startup complete.\n",
      "INFO:     Uvicorn running on http://0.0.0.0:8000 (Press CTRL+C to quit)\n"
     ]
    },
    {
     "name": "stdout",
     "output_type": "stream",
     "text": [
      "INFO:     127.0.0.1:63205 - \"GET /docs HTTP/1.1\" 200 OK\n",
      "INFO:     127.0.0.1:63205 - \"GET /openapi.json HTTP/1.1\" 200 OK\n"
     ]
    },
    {
     "name": "stderr",
     "output_type": "stream",
     "text": [
      "WARNING:root:Failed to load default session, using empty session: HTTPConnectionPool(host='localhost', port=1984): Max retries exceeded with url: /sessions?name=default (Caused by NewConnectionError('<urllib3.connection.HTTPConnection object at 0x000002BF1BF088E0>: Failed to establish a new connection: [WinError 10061] No connection could be made because the target machine actively refused it'))\n",
      "WARNING:root:Failed to persist run: HTTPConnectionPool(host='localhost', port=1984): Max retries exceeded with url: /chain-runs (Caused by NewConnectionError('<urllib3.connection.HTTPConnection object at 0x000002BF1BF26520>: Failed to establish a new connection: [WinError 10061] No connection could be made because the target machine actively refused it'))\n"
     ]
    },
    {
     "name": "stdout",
     "output_type": "stream",
     "text": [
      "{'results': {'drug_name': 'Doxycycline', 'generic_name': 'Doxycycline', 'side_effects': ['Nausea', 'Vomiting', 'Diarrhea', 'Rash', 'Photosensitivity'], 'drug_classes': ['Tetracycline Antibiotic'], 'brand_names': ['Adoxa', 'Doryx', 'Monodox', 'Oracea', 'Vibramycin'], 'activity': 'Unknown', 'related_drugs': ['Minocycline', 'Tetracycline', 'Azithromycin'], 'rating': 7.1, 'no_of_reviews': 998, 'drug_link': 'https://www.drugs.com/doxycycline.html', 'CSA': 'N'}}\n",
      "INFO:     127.0.0.1:63234 - \"POST /question/ HTTP/1.1\" 200 OK\n"
     ]
    },
    {
     "name": "stderr",
     "output_type": "stream",
     "text": [
      "INFO:     Shutting down\n",
      "INFO:     Waiting for application shutdown.\n",
      "INFO:     Application shutdown complete.\n",
      "INFO:     Finished server process [21568]\n"
     ]
    }
   ],
   "source": [
    "import nest_asyncio\n",
    "import uvicorn\n",
    "\n",
    "nest_asyncio.apply()\n",
    "\n",
    "#Open http://127.0.0.1:8000/docs#/default to extract information from document\n",
    "uvicorn.run(app, host=\"0.0.0.0\", port=8000)\n"
   ]
  },
  {
   "cell_type": "code",
   "execution_count": 34,
   "metadata": {},
   "outputs": [],
   "source": [
    "yes = \"\"\"{\"query\": [\"I want information on Accutane\"],\"focus\":[\"side_effects\", \"drug_classes\"]}, \\\n",
    "          Below is the response format. Note: This is just a format for your response and not the actual response.\n",
    "          Only use keys that are relevant to the question asked. The maximum number of keys should be 8, and the minimum number of keys should be 5. \n",
    "          If the requested information is unavailable, use \"unknown\" as the value.\n",
    "                    {\"results\": {\n",
    "            \"drug_name\": \"Paracetamol\",\n",
    "            \"generic_name\": \"Acetaminophen\",\n",
    "            \"side_effects\": [\"Headache\", \"Nausea\", \"Stomach pain\"],\n",
    "            \"drug_classes\": [\"Analgesic\", \"Antipyretic\"],\n",
    "            \"brand_names\": [\"Acticlate\", \"Adoxa CK\", \"Adoxa Pak\", \"Adoxa TT\"],\n",
    "            \"activity\": \"87%\",\n",
    "            \"related_drugs\": [\"Amoxicillin\", \"Prednisone\", \"Albuterol\"],\n",
    "            \"rating\": 6.8,\n",
    "            \"no_of_reviews\": 760,\n",
    "            \"drug_link\": \"https://www.drugs.com/doxycycline.html\",\n",
    "            \"CSA\": \"N\"\n",
    "                  }}\n",
    "          \"\"\""
   ]
  },
  {
   "cell_type": "markdown",
   "metadata": {},
   "source": [
    "#### Bonus Part <a class=\"anchor\" id=\"7.0\"></a>\n",
    "\n",
    "\n",
    "We can extract information from our medical file using the `create_csv_agent` api, with this api, we can accurately extract info based on the input prompt."
   ]
  },
  {
   "cell_type": "markdown",
   "metadata": {},
   "source": [
    "\n",
    "#### Using CSV_AGENT <a class=\"anchor\" id=\"7.1\"></a>\n"
   ]
  },
  {
   "cell_type": "code",
   "execution_count": 32,
   "metadata": {},
   "outputs": [],
   "source": [
    "from langchain.agents import create_csv_agent\n",
    "from langchain.llms import OpenAI"
   ]
  },
  {
   "cell_type": "code",
   "execution_count": 33,
   "metadata": {},
   "outputs": [],
   "source": [
    "agent = create_csv_agent(llm, 'Drugs Master List.csv', verbose=True)\n",
    "\n",
    " "
   ]
  },
  {
   "cell_type": "code",
   "execution_count": 36,
   "metadata": {},
   "outputs": [],
   "source": [
    "agent.run(yes)"
   ]
  },
  {
   "cell_type": "code",
   "execution_count": null,
   "metadata": {},
   "outputs": [],
   "source": []
  }
 ],
 "metadata": {
  "kernelspec": {
   "display_name": "Python 3 (ipykernel)",
   "language": "python",
   "name": "python3"
  },
  "language_info": {
   "codemirror_mode": {
    "name": "ipython",
    "version": 3
   },
   "file_extension": ".py",
   "mimetype": "text/x-python",
   "name": "python",
   "nbconvert_exporter": "python",
   "pygments_lexer": "ipython3",
   "version": "3.9.7"
  }
 },
 "nbformat": 4,
 "nbformat_minor": 2
}
